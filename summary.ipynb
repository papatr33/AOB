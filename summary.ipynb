{
 "cells": [
  {
   "cell_type": "code",
   "execution_count": 4,
   "metadata": {},
   "outputs": [
    {
     "name": "stderr",
     "output_type": "stream",
     "text": [
      "C:\\Users\\apeir\\AppData\\Local\\Temp\\ipykernel_9592\\774633942.py:16: SettingWithCopyWarning:\n",
      "\n",
      "\n",
      "A value is trying to be set on a copy of a slice from a DataFrame.\n",
      "Try using .loc[row_indexer,col_indexer] = value instead\n",
      "\n",
      "See the caveats in the documentation: https://pandas.pydata.org/pandas-docs/stable/user_guide/indexing.html#returning-a-view-versus-a-copy\n",
      "\n"
     ]
    },
    {
     "data": {
      "application/vnd.plotly.v1+json": {
       "config": {
        "plotlyServerURL": "https://plot.ly"
       },
       "data": [
        {
         "alignmentgroup": "True",
         "customdata": [
          [
           "170"
          ],
          [
           "264.7183"
          ],
          [
           "16300"
          ],
          [
           "2100"
          ],
          [
           "28"
          ],
          [
           "30"
          ]
         ],
         "hovertemplate": "Trade Type=Buy Call<br>Expiry=2024-03-15 00:00:00<br>Ticker=%{x}<br>Notional ($)=%{y}<br>Strike=%{customdata[0]}<extra></extra>",
         "legendgroup": "Buy Call",
         "marker": {
          "color": "#636efa",
          "pattern": {
           "shape": ""
          }
         },
         "name": "Buy Call",
         "offsetgroup": "Buy Call",
         "orientation": "v",
         "showlegend": true,
         "textposition": "auto",
         "type": "bar",
         "x": [
          "BESI NA",
          "DIM FP",
          "NDX",
          "RMS FP",
          "UMG NA",
          "UMG NA"
         ],
         "xaxis": "x7",
         "y": [
          1.04,
          0.85,
          8.15,
          20.79,
          0.53,
          0.19
         ],
         "yaxis": "y7"
        },
        {
         "alignmentgroup": "True",
         "customdata": [
          [
           "135"
          ]
         ],
         "hovertemplate": "Trade Type=Buy Call<br>Expiry=2024-04-19 00:00:00<br>Ticker=%{x}<br>Notional ($)=%{y}<br>Strike=%{customdata[0]}<extra></extra>",
         "legendgroup": "Buy Call",
         "marker": {
          "color": "#636efa",
          "pattern": {
           "shape": ""
          }
         },
         "name": "Buy Call",
         "offsetgroup": "Buy Call",
         "orientation": "v",
         "showlegend": false,
         "textposition": "auto",
         "type": "bar",
         "x": [
          "NVO US"
         ],
         "xaxis": "x4",
         "y": [
          1.09
         ],
         "yaxis": "y4"
        },
        {
         "alignmentgroup": "True",
         "customdata": [
          [
           "36500"
          ]
         ],
         "hovertemplate": "Trade Type=Sell Call<br>Expiry=2024-03-08 00:00:00<br>Ticker=%{x}<br>Notional ($)=%{y}<br>Strike=%{customdata[0]}<extra></extra>",
         "legendgroup": "Sell Call",
         "marker": {
          "color": "#00cc96",
          "pattern": {
           "shape": "\\"
          }
         },
         "name": "Sell Call",
         "offsetgroup": "Sell Call",
         "orientation": "v",
         "showlegend": true,
         "textposition": "auto",
         "type": "bar",
         "x": [
          "NKA"
         ],
         "xaxis": "x8",
         "y": [
          29.76
         ],
         "yaxis": "y8"
        },
        {
         "alignmentgroup": "True",
         "customdata": [
          [
           "1300"
          ],
          [
           "1400"
          ],
          [
           "150"
          ],
          [
           "16300"
          ],
          [
           "120"
          ],
          [
           "37.5"
          ],
          [
           "47.5"
          ],
          [
           "30"
          ]
         ],
         "hovertemplate": "Trade Type=Sell Call<br>Expiry=2024-03-15 00:00:00<br>Ticker=%{x}<br>Notional ($)=%{y}<br>Strike=%{customdata[0]}<extra></extra>",
         "legendgroup": "Sell Call",
         "marker": {
          "color": "#00cc96",
          "pattern": {
           "shape": "\\"
          }
         },
         "name": "Sell Call",
         "offsetgroup": "Sell Call",
         "orientation": "v",
         "showlegend": false,
         "textposition": "auto",
         "type": "bar",
         "x": [
          "ADYEN NA",
          "ADYEN NA",
          "ARM US",
          "NDX",
          "NTES US",
          "STAA US",
          "STAA US",
          "UMG NA"
         ],
         "xaxis": "x7",
         "y": [
          3.0700000000000003,
          3.3099999999999996,
          1.22,
          24.45,
          1.25,
          0.02,
          2.74,
          3.54
         ],
         "yaxis": "y7"
        },
        {
         "alignmentgroup": "True",
         "customdata": [
          [
           "139.91"
          ]
         ],
         "hovertemplate": "Trade Type=Sell Call<br>Expiry=2024-03-20 00:00:00<br>Ticker=%{x}<br>Notional ($)=%{y}<br>Strike=%{customdata[0]}<extra></extra>",
         "legendgroup": "Sell Call",
         "marker": {
          "color": "#00cc96",
          "pattern": {
           "shape": "\\"
          }
         },
         "name": "Sell Call",
         "offsetgroup": "Sell Call",
         "orientation": "v",
         "showlegend": false,
         "textposition": "auto",
         "type": "bar",
         "x": [
          "688506 CH"
         ],
         "xaxis": "x6",
         "y": [
          2.01
         ],
         "yaxis": "y6"
        },
        {
         "alignmentgroup": "True",
         "customdata": [
          [
           "40"
          ],
          [
           "280"
          ],
          [
           "32"
          ]
         ],
         "hovertemplate": "Trade Type=Sell Call<br>Expiry=2024-04-19 00:00:00<br>Ticker=%{x}<br>Notional ($)=%{y}<br>Strike=%{customdata[0]}<extra></extra>",
         "legendgroup": "Sell Call",
         "marker": {
          "color": "#00cc96",
          "pattern": {
           "shape": "\\"
          }
         },
         "name": "Sell Call",
         "offsetgroup": "Sell Call",
         "orientation": "v",
         "showlegend": false,
         "textposition": "auto",
         "type": "bar",
         "x": [
          "STAA US",
          "SWAV US",
          "UMG NA"
         ],
         "xaxis": "x4",
         "y": [
          0,
          2.44,
          2.13
         ],
         "yaxis": "y4"
        },
        {
         "alignmentgroup": "True",
         "customdata": [
          [
           "33.3"
          ]
         ],
         "hovertemplate": "Trade Type=Sell Call<br>Expiry=2024-04-26 00:00:00<br>Ticker=%{x}<br>Notional ($)=%{y}<br>Strike=%{customdata[0]}<extra></extra>",
         "legendgroup": "Sell Call",
         "marker": {
          "color": "#00cc96",
          "pattern": {
           "shape": "\\"
          }
         },
         "name": "Sell Call",
         "offsetgroup": "Sell Call",
         "orientation": "v",
         "showlegend": false,
         "textposition": "auto",
         "type": "bar",
         "x": [
          "688166 CH"
         ],
         "xaxis": "x3",
         "y": [
          0.8
         ],
         "yaxis": "y3"
        },
        {
         "alignmentgroup": "True",
         "customdata": [
          [
           "62"
          ]
         ],
         "hovertemplate": "Trade Type=Sell Call<br>Expiry=2024-05-06 00:00:00<br>Ticker=%{x}<br>Notional ($)=%{y}<br>Strike=%{customdata[0]}<extra></extra>",
         "legendgroup": "Sell Call",
         "marker": {
          "color": "#00cc96",
          "pattern": {
           "shape": "\\"
          }
         },
         "name": "Sell Call",
         "offsetgroup": "Sell Call",
         "orientation": "v",
         "showlegend": false,
         "textposition": "auto",
         "type": "bar",
         "x": [
          "603259 CH"
         ],
         "xaxis": "x2",
         "y": [
          2.01
         ],
         "yaxis": "y2"
        },
        {
         "alignmentgroup": "True",
         "customdata": [
          [
           "37.5"
          ],
          [
           "40"
          ]
         ],
         "hovertemplate": "Trade Type=Sell Call<br>Expiry=2024-06-21 00:00:00<br>Ticker=%{x}<br>Notional ($)=%{y}<br>Strike=%{customdata[0]}<extra></extra>",
         "legendgroup": "Sell Call",
         "marker": {
          "color": "#00cc96",
          "pattern": {
           "shape": "\\"
          }
         },
         "name": "Sell Call",
         "offsetgroup": "Sell Call",
         "orientation": "v",
         "showlegend": false,
         "textposition": "auto",
         "type": "bar",
         "x": [
          "STAA US",
          "STAA US"
         ],
         "xaxis": "x",
         "y": [
          3.11,
          1.28
         ],
         "yaxis": "y"
        },
        {
         "alignmentgroup": "True",
         "customdata": [
          [
           "105"
          ]
         ],
         "hovertemplate": "Trade Type=Sell Put<br>Expiry=2024-03-01 00:00:00<br>Ticker=%{x}<br>Notional ($)=%{y}<br>Strike=%{customdata[0]}<extra></extra>",
         "legendgroup": "Sell Put",
         "marker": {
          "color": "#ab63fa",
          "pattern": {
           "shape": "x"
          }
         },
         "name": "Sell Put",
         "offsetgroup": "Sell Put",
         "orientation": "v",
         "showlegend": true,
         "textposition": "auto",
         "type": "bar",
         "x": [
          "NTES US"
         ],
         "xaxis": "x9",
         "y": [
          0.95
         ],
         "yaxis": "y9"
        },
        {
         "alignmentgroup": "True",
         "customdata": [
          [
           "17.073"
          ],
          [
           "18.077"
          ]
         ],
         "hovertemplate": "Trade Type=Sell Put<br>Expiry=2024-03-08 00:00:00<br>Ticker=%{x}<br>Notional ($)=%{y}<br>Strike=%{customdata[0]}<extra></extra>",
         "legendgroup": "Sell Put",
         "marker": {
          "color": "#ab63fa",
          "pattern": {
           "shape": "x"
          }
         },
         "name": "Sell Put",
         "offsetgroup": "Sell Put",
         "orientation": "v",
         "showlegend": false,
         "textposition": "auto",
         "type": "bar",
         "x": [
          "300285 CH",
          "300285 CH"
         ],
         "xaxis": "x8",
         "y": [
          1.01,
          1.01
         ],
         "yaxis": "y8"
        },
        {
         "alignmentgroup": "True",
         "customdata": [
          [
           "1300"
          ],
          [
           "1350"
          ],
          [
           "1400"
          ],
          [
           "980"
          ],
          [
           "120"
          ],
          [
           "125"
          ],
          [
           "130"
          ],
          [
           "135"
          ],
          [
           "145"
          ],
          [
           "155"
          ],
          [
           "221.1601"
          ],
          [
           "55"
          ],
          [
           "84"
          ],
          [
           "85"
          ],
          [
           "22.5"
          ],
          [
           "28"
          ],
          [
           "27"
          ],
          [
           "1900"
          ],
          [
           "25"
          ],
          [
           "25.5"
          ],
          [
           "26"
          ],
          [
           "27.1"
          ]
         ],
         "hovertemplate": "Trade Type=Sell Put<br>Expiry=2024-03-15 00:00:00<br>Ticker=%{x}<br>Notional ($)=%{y}<br>Strike=%{customdata[0]}<extra></extra>",
         "legendgroup": "Sell Put",
         "marker": {
          "color": "#ab63fa",
          "pattern": {
           "shape": "x"
          }
         },
         "name": "Sell Put",
         "offsetgroup": "Sell Put",
         "orientation": "v",
         "showlegend": false,
         "textposition": "auto",
         "type": "bar",
         "x": [
          "ADYEN NA",
          "ADYEN NA",
          "ADYEN NA",
          "ADYEN NA",
          "BESI NA",
          "BESI NA",
          "BESI NA",
          "BESI NA",
          "BESI NA",
          "BESI NA",
          "DIM FP",
          "MMYT US",
          "MRNA US",
          "MRNA US",
          "ONON US",
          "ONON US",
          "ONON US ",
          "RMS FP",
          "UMG NA",
          "UMG NA",
          "UMG NA",
          "UMG NA"
         ],
         "xaxis": "x7",
         "y": [
          0.01,
          1.24,
          3.71,
          0.01,
          0.85,
          1.28,
          1.58,
          2.4699999999999998,
          0.88,
          0.94,
          0.71,
          0.06,
          0.01,
          0.91,
          0,
          1.68,
          0.87,
          18.81,
          1.8,
          3.74,
          0.46,
          0
         ],
         "yaxis": "y7"
        },
        {
         "alignmentgroup": "True",
         "customdata": [
          [
           "16.024"
          ]
         ],
         "hovertemplate": "Trade Type=Sell Put<br>Expiry=2024-04-17 00:00:00<br>Ticker=%{x}<br>Notional ($)=%{y}<br>Strike=%{customdata[0]}<extra></extra>",
         "legendgroup": "Sell Put",
         "marker": {
          "color": "#ab63fa",
          "pattern": {
           "shape": "x"
          }
         },
         "name": "Sell Put",
         "offsetgroup": "Sell Put",
         "orientation": "v",
         "showlegend": false,
         "textposition": "auto",
         "type": "bar",
         "x": [
          "300285 CH"
         ],
         "xaxis": "x5",
         "y": [
          0.99
         ],
         "yaxis": "y5"
        },
        {
         "alignmentgroup": "True",
         "customdata": [
          [
           "140"
          ],
          [
           "145"
          ],
          [
           "150"
          ],
          [
           "530"
          ],
          [
           "115"
          ],
          [
           "550"
          ],
          [
           "20"
          ]
         ],
         "hovertemplate": "Trade Type=Sell Put<br>Expiry=2024-04-19 00:00:00<br>Ticker=%{x}<br>Notional ($)=%{y}<br>Strike=%{customdata[0]}<extra></extra>",
         "legendgroup": "Sell Put",
         "marker": {
          "color": "#ab63fa",
          "pattern": {
           "shape": "x"
          }
         },
         "name": "Sell Put",
         "offsetgroup": "Sell Put",
         "orientation": "v",
         "showlegend": false,
         "textposition": "auto",
         "type": "bar",
         "x": [
          "BESI NA",
          "BESI NA",
          "BESI NA",
          "MSCI US",
          "NVO US",
          "SNPS US",
          "WOLF US"
         ],
         "xaxis": "x4",
         "y": [
          0.02,
          1.6400000000000001,
          0.78,
          0.95,
          0.93,
          1.93,
          0.78
         ],
         "yaxis": "y4"
        }
       ],
       "layout": {
        "annotations": [
         {
          "font": {},
          "showarrow": false,
          "text": "Expiry=2024-06-21 00:00:00",
          "textangle": 90,
          "x": 0.98,
          "xanchor": "left",
          "xref": "paper",
          "y": 0.042222222222222223,
          "yanchor": "middle",
          "yref": "paper"
         },
         {
          "font": {},
          "showarrow": false,
          "text": "Expiry=2024-05-06 00:00:00",
          "textangle": 90,
          "x": 0.98,
          "xanchor": "left",
          "xref": "paper",
          "y": 0.15666666666666668,
          "yanchor": "middle",
          "yref": "paper"
         },
         {
          "font": {},
          "showarrow": false,
          "text": "Expiry=2024-04-26 00:00:00",
          "textangle": 90,
          "x": 0.98,
          "xanchor": "left",
          "xref": "paper",
          "y": 0.27111111111111114,
          "yanchor": "middle",
          "yref": "paper"
         },
         {
          "font": {},
          "showarrow": false,
          "text": "Expiry=2024-04-19 00:00:00",
          "textangle": 90,
          "x": 0.98,
          "xanchor": "left",
          "xref": "paper",
          "y": 0.3855555555555556,
          "yanchor": "middle",
          "yref": "paper"
         },
         {
          "font": {},
          "showarrow": false,
          "text": "Expiry=2024-04-17 00:00:00",
          "textangle": 90,
          "x": 0.98,
          "xanchor": "left",
          "xref": "paper",
          "y": 0.5,
          "yanchor": "middle",
          "yref": "paper"
         },
         {
          "font": {},
          "showarrow": false,
          "text": "Expiry=2024-03-20 00:00:00",
          "textangle": 90,
          "x": 0.98,
          "xanchor": "left",
          "xref": "paper",
          "y": 0.6144444444444443,
          "yanchor": "middle",
          "yref": "paper"
         },
         {
          "font": {},
          "showarrow": false,
          "text": "Expiry=2024-03-15 00:00:00",
          "textangle": 90,
          "x": 0.98,
          "xanchor": "left",
          "xref": "paper",
          "y": 0.7288888888888889,
          "yanchor": "middle",
          "yref": "paper"
         },
         {
          "font": {},
          "showarrow": false,
          "text": "Expiry=2024-03-08 00:00:00",
          "textangle": 90,
          "x": 0.98,
          "xanchor": "left",
          "xref": "paper",
          "y": 0.8433333333333333,
          "yanchor": "middle",
          "yref": "paper"
         },
         {
          "font": {},
          "showarrow": false,
          "text": "Expiry=2024-03-01 00:00:00",
          "textangle": 90,
          "x": 0.98,
          "xanchor": "left",
          "xref": "paper",
          "y": 0.9577777777777778,
          "yanchor": "middle",
          "yref": "paper"
         }
        ],
        "barmode": "group",
        "height": 2700,
        "legend": {
         "title": {
          "text": "Trade Type"
         },
         "tracegroupgap": 0
        },
        "margin": {
         "t": 60
        },
        "template": {
         "data": {
          "bar": [
           {
            "error_x": {
             "color": "#2a3f5f"
            },
            "error_y": {
             "color": "#2a3f5f"
            },
            "marker": {
             "line": {
              "color": "#E5ECF6",
              "width": 0.5
             },
             "pattern": {
              "fillmode": "overlay",
              "size": 10,
              "solidity": 0.2
             }
            },
            "type": "bar"
           }
          ],
          "barpolar": [
           {
            "marker": {
             "line": {
              "color": "#E5ECF6",
              "width": 0.5
             },
             "pattern": {
              "fillmode": "overlay",
              "size": 10,
              "solidity": 0.2
             }
            },
            "type": "barpolar"
           }
          ],
          "carpet": [
           {
            "aaxis": {
             "endlinecolor": "#2a3f5f",
             "gridcolor": "white",
             "linecolor": "white",
             "minorgridcolor": "white",
             "startlinecolor": "#2a3f5f"
            },
            "baxis": {
             "endlinecolor": "#2a3f5f",
             "gridcolor": "white",
             "linecolor": "white",
             "minorgridcolor": "white",
             "startlinecolor": "#2a3f5f"
            },
            "type": "carpet"
           }
          ],
          "choropleth": [
           {
            "colorbar": {
             "outlinewidth": 0,
             "ticks": ""
            },
            "type": "choropleth"
           }
          ],
          "contour": [
           {
            "colorbar": {
             "outlinewidth": 0,
             "ticks": ""
            },
            "colorscale": [
             [
              0,
              "#0d0887"
             ],
             [
              0.1111111111111111,
              "#46039f"
             ],
             [
              0.2222222222222222,
              "#7201a8"
             ],
             [
              0.3333333333333333,
              "#9c179e"
             ],
             [
              0.4444444444444444,
              "#bd3786"
             ],
             [
              0.5555555555555556,
              "#d8576b"
             ],
             [
              0.6666666666666666,
              "#ed7953"
             ],
             [
              0.7777777777777778,
              "#fb9f3a"
             ],
             [
              0.8888888888888888,
              "#fdca26"
             ],
             [
              1,
              "#f0f921"
             ]
            ],
            "type": "contour"
           }
          ],
          "contourcarpet": [
           {
            "colorbar": {
             "outlinewidth": 0,
             "ticks": ""
            },
            "type": "contourcarpet"
           }
          ],
          "heatmap": [
           {
            "colorbar": {
             "outlinewidth": 0,
             "ticks": ""
            },
            "colorscale": [
             [
              0,
              "#0d0887"
             ],
             [
              0.1111111111111111,
              "#46039f"
             ],
             [
              0.2222222222222222,
              "#7201a8"
             ],
             [
              0.3333333333333333,
              "#9c179e"
             ],
             [
              0.4444444444444444,
              "#bd3786"
             ],
             [
              0.5555555555555556,
              "#d8576b"
             ],
             [
              0.6666666666666666,
              "#ed7953"
             ],
             [
              0.7777777777777778,
              "#fb9f3a"
             ],
             [
              0.8888888888888888,
              "#fdca26"
             ],
             [
              1,
              "#f0f921"
             ]
            ],
            "type": "heatmap"
           }
          ],
          "heatmapgl": [
           {
            "colorbar": {
             "outlinewidth": 0,
             "ticks": ""
            },
            "colorscale": [
             [
              0,
              "#0d0887"
             ],
             [
              0.1111111111111111,
              "#46039f"
             ],
             [
              0.2222222222222222,
              "#7201a8"
             ],
             [
              0.3333333333333333,
              "#9c179e"
             ],
             [
              0.4444444444444444,
              "#bd3786"
             ],
             [
              0.5555555555555556,
              "#d8576b"
             ],
             [
              0.6666666666666666,
              "#ed7953"
             ],
             [
              0.7777777777777778,
              "#fb9f3a"
             ],
             [
              0.8888888888888888,
              "#fdca26"
             ],
             [
              1,
              "#f0f921"
             ]
            ],
            "type": "heatmapgl"
           }
          ],
          "histogram": [
           {
            "marker": {
             "pattern": {
              "fillmode": "overlay",
              "size": 10,
              "solidity": 0.2
             }
            },
            "type": "histogram"
           }
          ],
          "histogram2d": [
           {
            "colorbar": {
             "outlinewidth": 0,
             "ticks": ""
            },
            "colorscale": [
             [
              0,
              "#0d0887"
             ],
             [
              0.1111111111111111,
              "#46039f"
             ],
             [
              0.2222222222222222,
              "#7201a8"
             ],
             [
              0.3333333333333333,
              "#9c179e"
             ],
             [
              0.4444444444444444,
              "#bd3786"
             ],
             [
              0.5555555555555556,
              "#d8576b"
             ],
             [
              0.6666666666666666,
              "#ed7953"
             ],
             [
              0.7777777777777778,
              "#fb9f3a"
             ],
             [
              0.8888888888888888,
              "#fdca26"
             ],
             [
              1,
              "#f0f921"
             ]
            ],
            "type": "histogram2d"
           }
          ],
          "histogram2dcontour": [
           {
            "colorbar": {
             "outlinewidth": 0,
             "ticks": ""
            },
            "colorscale": [
             [
              0,
              "#0d0887"
             ],
             [
              0.1111111111111111,
              "#46039f"
             ],
             [
              0.2222222222222222,
              "#7201a8"
             ],
             [
              0.3333333333333333,
              "#9c179e"
             ],
             [
              0.4444444444444444,
              "#bd3786"
             ],
             [
              0.5555555555555556,
              "#d8576b"
             ],
             [
              0.6666666666666666,
              "#ed7953"
             ],
             [
              0.7777777777777778,
              "#fb9f3a"
             ],
             [
              0.8888888888888888,
              "#fdca26"
             ],
             [
              1,
              "#f0f921"
             ]
            ],
            "type": "histogram2dcontour"
           }
          ],
          "mesh3d": [
           {
            "colorbar": {
             "outlinewidth": 0,
             "ticks": ""
            },
            "type": "mesh3d"
           }
          ],
          "parcoords": [
           {
            "line": {
             "colorbar": {
              "outlinewidth": 0,
              "ticks": ""
             }
            },
            "type": "parcoords"
           }
          ],
          "pie": [
           {
            "automargin": true,
            "type": "pie"
           }
          ],
          "scatter": [
           {
            "fillpattern": {
             "fillmode": "overlay",
             "size": 10,
             "solidity": 0.2
            },
            "type": "scatter"
           }
          ],
          "scatter3d": [
           {
            "line": {
             "colorbar": {
              "outlinewidth": 0,
              "ticks": ""
             }
            },
            "marker": {
             "colorbar": {
              "outlinewidth": 0,
              "ticks": ""
             }
            },
            "type": "scatter3d"
           }
          ],
          "scattercarpet": [
           {
            "marker": {
             "colorbar": {
              "outlinewidth": 0,
              "ticks": ""
             }
            },
            "type": "scattercarpet"
           }
          ],
          "scattergeo": [
           {
            "marker": {
             "colorbar": {
              "outlinewidth": 0,
              "ticks": ""
             }
            },
            "type": "scattergeo"
           }
          ],
          "scattergl": [
           {
            "marker": {
             "colorbar": {
              "outlinewidth": 0,
              "ticks": ""
             }
            },
            "type": "scattergl"
           }
          ],
          "scattermapbox": [
           {
            "marker": {
             "colorbar": {
              "outlinewidth": 0,
              "ticks": ""
             }
            },
            "type": "scattermapbox"
           }
          ],
          "scatterpolar": [
           {
            "marker": {
             "colorbar": {
              "outlinewidth": 0,
              "ticks": ""
             }
            },
            "type": "scatterpolar"
           }
          ],
          "scatterpolargl": [
           {
            "marker": {
             "colorbar": {
              "outlinewidth": 0,
              "ticks": ""
             }
            },
            "type": "scatterpolargl"
           }
          ],
          "scatterternary": [
           {
            "marker": {
             "colorbar": {
              "outlinewidth": 0,
              "ticks": ""
             }
            },
            "type": "scatterternary"
           }
          ],
          "surface": [
           {
            "colorbar": {
             "outlinewidth": 0,
             "ticks": ""
            },
            "colorscale": [
             [
              0,
              "#0d0887"
             ],
             [
              0.1111111111111111,
              "#46039f"
             ],
             [
              0.2222222222222222,
              "#7201a8"
             ],
             [
              0.3333333333333333,
              "#9c179e"
             ],
             [
              0.4444444444444444,
              "#bd3786"
             ],
             [
              0.5555555555555556,
              "#d8576b"
             ],
             [
              0.6666666666666666,
              "#ed7953"
             ],
             [
              0.7777777777777778,
              "#fb9f3a"
             ],
             [
              0.8888888888888888,
              "#fdca26"
             ],
             [
              1,
              "#f0f921"
             ]
            ],
            "type": "surface"
           }
          ],
          "table": [
           {
            "cells": {
             "fill": {
              "color": "#EBF0F8"
             },
             "line": {
              "color": "white"
             }
            },
            "header": {
             "fill": {
              "color": "#C8D4E3"
             },
             "line": {
              "color": "white"
             }
            },
            "type": "table"
           }
          ]
         },
         "layout": {
          "annotationdefaults": {
           "arrowcolor": "#2a3f5f",
           "arrowhead": 0,
           "arrowwidth": 1
          },
          "autotypenumbers": "strict",
          "coloraxis": {
           "colorbar": {
            "outlinewidth": 0,
            "ticks": ""
           }
          },
          "colorscale": {
           "diverging": [
            [
             0,
             "#8e0152"
            ],
            [
             0.1,
             "#c51b7d"
            ],
            [
             0.2,
             "#de77ae"
            ],
            [
             0.3,
             "#f1b6da"
            ],
            [
             0.4,
             "#fde0ef"
            ],
            [
             0.5,
             "#f7f7f7"
            ],
            [
             0.6,
             "#e6f5d0"
            ],
            [
             0.7,
             "#b8e186"
            ],
            [
             0.8,
             "#7fbc41"
            ],
            [
             0.9,
             "#4d9221"
            ],
            [
             1,
             "#276419"
            ]
           ],
           "sequential": [
            [
             0,
             "#0d0887"
            ],
            [
             0.1111111111111111,
             "#46039f"
            ],
            [
             0.2222222222222222,
             "#7201a8"
            ],
            [
             0.3333333333333333,
             "#9c179e"
            ],
            [
             0.4444444444444444,
             "#bd3786"
            ],
            [
             0.5555555555555556,
             "#d8576b"
            ],
            [
             0.6666666666666666,
             "#ed7953"
            ],
            [
             0.7777777777777778,
             "#fb9f3a"
            ],
            [
             0.8888888888888888,
             "#fdca26"
            ],
            [
             1,
             "#f0f921"
            ]
           ],
           "sequentialminus": [
            [
             0,
             "#0d0887"
            ],
            [
             0.1111111111111111,
             "#46039f"
            ],
            [
             0.2222222222222222,
             "#7201a8"
            ],
            [
             0.3333333333333333,
             "#9c179e"
            ],
            [
             0.4444444444444444,
             "#bd3786"
            ],
            [
             0.5555555555555556,
             "#d8576b"
            ],
            [
             0.6666666666666666,
             "#ed7953"
            ],
            [
             0.7777777777777778,
             "#fb9f3a"
            ],
            [
             0.8888888888888888,
             "#fdca26"
            ],
            [
             1,
             "#f0f921"
            ]
           ]
          },
          "colorway": [
           "#636efa",
           "#EF553B",
           "#00cc96",
           "#ab63fa",
           "#FFA15A",
           "#19d3f3",
           "#FF6692",
           "#B6E880",
           "#FF97FF",
           "#FECB52"
          ],
          "font": {
           "color": "#2a3f5f"
          },
          "geo": {
           "bgcolor": "white",
           "lakecolor": "white",
           "landcolor": "#E5ECF6",
           "showlakes": true,
           "showland": true,
           "subunitcolor": "white"
          },
          "hoverlabel": {
           "align": "left"
          },
          "hovermode": "closest",
          "mapbox": {
           "style": "light"
          },
          "paper_bgcolor": "white",
          "plot_bgcolor": "#E5ECF6",
          "polar": {
           "angularaxis": {
            "gridcolor": "white",
            "linecolor": "white",
            "ticks": ""
           },
           "bgcolor": "#E5ECF6",
           "radialaxis": {
            "gridcolor": "white",
            "linecolor": "white",
            "ticks": ""
           }
          },
          "scene": {
           "xaxis": {
            "backgroundcolor": "#E5ECF6",
            "gridcolor": "white",
            "gridwidth": 2,
            "linecolor": "white",
            "showbackground": true,
            "ticks": "",
            "zerolinecolor": "white"
           },
           "yaxis": {
            "backgroundcolor": "#E5ECF6",
            "gridcolor": "white",
            "gridwidth": 2,
            "linecolor": "white",
            "showbackground": true,
            "ticks": "",
            "zerolinecolor": "white"
           },
           "zaxis": {
            "backgroundcolor": "#E5ECF6",
            "gridcolor": "white",
            "gridwidth": 2,
            "linecolor": "white",
            "showbackground": true,
            "ticks": "",
            "zerolinecolor": "white"
           }
          },
          "shapedefaults": {
           "line": {
            "color": "#2a3f5f"
           }
          },
          "ternary": {
           "aaxis": {
            "gridcolor": "white",
            "linecolor": "white",
            "ticks": ""
           },
           "baxis": {
            "gridcolor": "white",
            "linecolor": "white",
            "ticks": ""
           },
           "bgcolor": "#E5ECF6",
           "caxis": {
            "gridcolor": "white",
            "linecolor": "white",
            "ticks": ""
           }
          },
          "title": {
           "x": 0.05
          },
          "xaxis": {
           "automargin": true,
           "gridcolor": "white",
           "linecolor": "white",
           "ticks": "",
           "title": {
            "standoff": 15
           },
           "zerolinecolor": "white",
           "zerolinewidth": 2
          },
          "yaxis": {
           "automargin": true,
           "gridcolor": "white",
           "linecolor": "white",
           "ticks": "",
           "title": {
            "standoff": 15
           },
           "zerolinecolor": "white",
           "zerolinewidth": 2
          }
         }
        },
        "title": {
         "text": "Notional ($) Size of Active Trades by Trade Type and Expiry Date"
        },
        "xaxis": {
         "anchor": "y",
         "domain": [
          0,
          0.98
         ],
         "title": {
          "text": "Ticker"
         }
        },
        "xaxis2": {
         "anchor": "y2",
         "domain": [
          0,
          0.98
         ],
         "matches": "x",
         "showticklabels": false,
         "title": {
          "text": "Ticker"
         }
        },
        "xaxis3": {
         "anchor": "y3",
         "domain": [
          0,
          0.98
         ],
         "matches": "x",
         "showticklabels": false,
         "title": {
          "text": "Ticker"
         }
        },
        "xaxis4": {
         "anchor": "y4",
         "domain": [
          0,
          0.98
         ],
         "matches": "x",
         "showticklabels": false,
         "title": {
          "text": "Ticker"
         }
        },
        "xaxis5": {
         "anchor": "y5",
         "domain": [
          0,
          0.98
         ],
         "matches": "x",
         "showticklabels": false,
         "title": {
          "text": "Ticker"
         }
        },
        "xaxis6": {
         "anchor": "y6",
         "domain": [
          0,
          0.98
         ],
         "matches": "x",
         "showticklabels": false,
         "title": {
          "text": "Ticker"
         }
        },
        "xaxis7": {
         "anchor": "y7",
         "domain": [
          0,
          0.98
         ],
         "matches": "x",
         "showticklabels": false,
         "title": {
          "text": "Ticker"
         }
        },
        "xaxis8": {
         "anchor": "y8",
         "domain": [
          0,
          0.98
         ],
         "matches": "x",
         "showticklabels": false,
         "title": {
          "text": "Ticker"
         }
        },
        "xaxis9": {
         "anchor": "y9",
         "domain": [
          0,
          0.98
         ],
         "matches": "x",
         "showticklabels": false,
         "title": {
          "text": "Ticker"
         }
        },
        "yaxis": {
         "anchor": "x",
         "domain": [
          0,
          0.08444444444444445
         ],
         "title": {
          "text": "Notional ($)"
         }
        },
        "yaxis2": {
         "anchor": "x2",
         "domain": [
          0.11444444444444445,
          0.1988888888888889
         ],
         "matches": "y",
         "title": {
          "text": "Notional ($)"
         }
        },
        "yaxis3": {
         "anchor": "x3",
         "domain": [
          0.2288888888888889,
          0.31333333333333335
         ],
         "matches": "y",
         "title": {
          "text": "Notional ($)"
         }
        },
        "yaxis4": {
         "anchor": "x4",
         "domain": [
          0.3433333333333334,
          0.4277777777777778
         ],
         "matches": "y",
         "title": {
          "text": "Notional ($)"
         }
        },
        "yaxis5": {
         "anchor": "x5",
         "domain": [
          0.4577777777777778,
          0.5422222222222223
         ],
         "matches": "y",
         "title": {
          "text": "Notional ($)"
         }
        },
        "yaxis6": {
         "anchor": "x6",
         "domain": [
          0.5722222222222222,
          0.6566666666666666
         ],
         "matches": "y",
         "title": {
          "text": "Notional ($)"
         }
        },
        "yaxis7": {
         "anchor": "x7",
         "domain": [
          0.6866666666666668,
          0.7711111111111112
         ],
         "matches": "y",
         "title": {
          "text": "Notional ($)"
         }
        },
        "yaxis8": {
         "anchor": "x8",
         "domain": [
          0.8011111111111111,
          0.8855555555555555
         ],
         "matches": "y",
         "title": {
          "text": "Notional ($)"
         }
        },
        "yaxis9": {
         "anchor": "x9",
         "domain": [
          0.9155555555555556,
          1
         ],
         "matches": "y",
         "title": {
          "text": "Notional ($)"
         }
        }
       }
      }
     },
     "metadata": {},
     "output_type": "display_data"
    }
   ],
   "source": [
    "import pandas as pd\n",
    "import plotly.express as px\n",
    "\n",
    "# Read the CSV file\n",
    "df = pd.read_csv('options_positions.csv')\n",
    "\n",
    "# Data cleaning and type conversion\n",
    "df['Quantity'] = df['Quantity'].apply(lambda x: float(str(x).replace(',', '')))\n",
    "df['Notl ($)'] = df['Notl ($)'].apply(lambda x: float(str(x).replace('$', '').replace(',', '')))\n",
    "df['Expiry Date'] = pd.to_datetime(df['Expiry Date'], format='%d-%b-%y')\n",
    "\n",
    "# Filter to include only 'Active' status\n",
    "df_active = df[df['Status'] == 'Active']\n",
    "\n",
    "# Create a new column for trade type\n",
    "df_active['Trade Type'] = df_active['Direction'] + ' ' + df_active['Call/Put']\n",
    "\n",
    "# Sort by 'Expiry Date'\n",
    "df_active_sorted = df_active.sort_values(by='Expiry Date')\n",
    "\n",
    "# Assuming 'Strike' is a column in 'df_active' DataFrame\n",
    "grouped = df_active_sorted.groupby(['Ticker', 'Trade Type', 'Expiry Date', 'Strike'])['Notl ($)'].sum().reset_index()\n",
    "\n",
    "# Create the plot with facets stacked vertically\n",
    "fig = px.bar(grouped, x='Ticker', y='Notl ($)', color='Trade Type',\n",
    "             pattern_shape='Trade Type', facet_row='Expiry Date',\n",
    "             hover_data=['Strike'],  # Include 'Strike' in the hover data\n",
    "             category_orders={\"Trade Type\": [\"Buy Call\", \"Buy Put\", \"Sell Call\", \"Sell Put\"],\n",
    "                              \"Expiry Date\": sorted(grouped['Expiry Date'].unique())},\n",
    "             labels={'Notl ($)': 'Notional ($)', 'Expiry Date': 'Expiry'})\n",
    "\n",
    "# Update layout for readability\n",
    "fig.update_layout(\n",
    "    title='Notional ($) Size of Active Trades by Trade Type and Expiry Date',\n",
    "    xaxis_title='Ticker',\n",
    "    yaxis_title='Notional ($)',\n",
    "    legend_title='Trade Type',\n",
    "    barmode='group',\n",
    "    height=300 * len(grouped['Expiry Date'].unique())  # Adjust height based on number of expiration dates\n",
    ")\n",
    "\n",
    "# Set the tickers as x-axis titles for each subplot\n",
    "for d in fig.layout:\n",
    "    if d.startswith('xaxis') and d != 'xaxis':\n",
    "        fig.layout[d].title.text = 'Ticker'\n",
    "\n",
    "# Show the figure\n",
    "fig.show()"
   ]
  },
  {
   "cell_type": "code",
   "execution_count": 6,
   "metadata": {},
   "outputs": [],
   "source": [
    "import plotly.io as pio\n",
    "pio.renderers.default = 'notebook'  # or 'jupyterlab' if you are using JupyterLab"
   ]
  },
  {
   "cell_type": "code",
   "execution_count": 17,
   "metadata": {},
   "outputs": [
    {
     "name": "stderr",
     "output_type": "stream",
     "text": [
      "C:\\Users\\apeir\\AppData\\Local\\Temp\\ipykernel_9592\\101802251.py:20: SettingWithCopyWarning:\n",
      "\n",
      "\n",
      "A value is trying to be set on a copy of a slice from a DataFrame.\n",
      "Try using .loc[row_indexer,col_indexer] = value instead\n",
      "\n",
      "See the caveats in the documentation: https://pandas.pydata.org/pandas-docs/stable/user_guide/indexing.html#returning-a-view-versus-a-copy\n",
      "\n"
     ]
    },
    {
     "data": {
      "application/vnd.plotly.v1+json": {
       "config": {
        "plotlyServerURL": "https://plot.ly"
       },
       "data": [
        {
         "hoverinfo": "text",
         "hovertext": [
          "300285 CH, Notional: 1.01, Strike: 17.073, Expiry: 2024-03-08",
          "300285 CH, Notional: 1.01, Strike: 18.077, Expiry: 2024-03-08"
         ],
         "name": "300285 CH",
         "text": [
          "17.073",
          "18.077"
         ],
         "type": "bar",
         "x": [
          "300285 CH",
          "300285 CH"
         ],
         "xaxis": "x",
         "y": [
          1.01,
          1.01
         ],
         "yaxis": "y"
        },
        {
         "hoverinfo": "text",
         "hovertext": [
          "NKA, Notional: -29.76, Strike: 36500, Expiry: 2024-03-08"
         ],
         "name": "NKA",
         "text": [
          "36500"
         ],
         "type": "bar",
         "x": [
          "NKA"
         ],
         "xaxis": "x",
         "y": [
          -29.76
         ],
         "yaxis": "y"
        },
        {
         "hoverinfo": "text",
         "hovertext": [
          "300285 CH, Notional: 0.99, Strike: 16.024, Expiry: 2024-04-17"
         ],
         "name": "300285 CH",
         "text": [
          "16.024"
         ],
         "type": "bar",
         "x": [
          "300285 CH"
         ],
         "xaxis": "x2",
         "y": [
          0.99
         ],
         "yaxis": "y2"
        },
        {
         "hoverinfo": "text",
         "hovertext": [
          "603259 CH, Notional: -2.01, Strike: 62, Expiry: 2024-05-06"
         ],
         "name": "603259 CH",
         "text": [
          "62"
         ],
         "type": "bar",
         "x": [
          "603259 CH"
         ],
         "xaxis": "x3",
         "y": [
          -2.01
         ],
         "yaxis": "y3"
        },
        {
         "hoverinfo": "text",
         "hovertext": [
          "688166 CH, Notional: -0.8, Strike: 33.3, Expiry: 2024-04-26"
         ],
         "name": "688166 CH",
         "text": [
          "33.3"
         ],
         "type": "bar",
         "x": [
          "688166 CH"
         ],
         "xaxis": "x4",
         "y": [
          -0.8
         ],
         "yaxis": "y4"
        },
        {
         "hoverinfo": "text",
         "hovertext": [
          "688506 CH, Notional: -2.01, Strike: 139.91, Expiry: 2024-03-20"
         ],
         "name": "688506 CH",
         "text": [
          "139.91"
         ],
         "type": "bar",
         "x": [
          "688506 CH"
         ],
         "xaxis": "x5",
         "y": [
          -2.01
         ],
         "yaxis": "y5"
        },
        {
         "hoverinfo": "text",
         "hovertext": [
          "ADYEN NA, Notional: -3.0700000000000003, Strike: 1300, Expiry: 2024-03-15",
          "ADYEN NA, Notional: -3.3099999999999996, Strike: 1400, Expiry: 2024-03-15",
          "ADYEN NA, Notional: 0.01, Strike: 1300, Expiry: 2024-03-15",
          "ADYEN NA, Notional: 1.24, Strike: 1350, Expiry: 2024-03-15",
          "ADYEN NA, Notional: 3.71, Strike: 1400, Expiry: 2024-03-15",
          "ADYEN NA, Notional: 0.01, Strike: 980, Expiry: 2024-03-15"
         ],
         "name": "ADYEN NA",
         "text": [
          "1300",
          "1400",
          "1300",
          "1350",
          "1400",
          "980"
         ],
         "type": "bar",
         "x": [
          "ADYEN NA",
          "ADYEN NA",
          "ADYEN NA",
          "ADYEN NA",
          "ADYEN NA",
          "ADYEN NA"
         ],
         "xaxis": "x6",
         "y": [
          -3.0700000000000003,
          -3.3099999999999996,
          0.01,
          1.24,
          3.71,
          0.01
         ],
         "yaxis": "y6"
        },
        {
         "hoverinfo": "text",
         "hovertext": [
          "ARM US, Notional: -1.22, Strike: 150, Expiry: 2024-03-15"
         ],
         "name": "ARM US",
         "text": [
          "150"
         ],
         "type": "bar",
         "x": [
          "ARM US"
         ],
         "xaxis": "x6",
         "y": [
          -1.22
         ],
         "yaxis": "y6"
        },
        {
         "hoverinfo": "text",
         "hovertext": [
          "BESI NA, Notional: 1.04, Strike: 170, Expiry: 2024-03-15",
          "BESI NA, Notional: 0.85, Strike: 120, Expiry: 2024-03-15",
          "BESI NA, Notional: 1.28, Strike: 125, Expiry: 2024-03-15",
          "BESI NA, Notional: 1.58, Strike: 130, Expiry: 2024-03-15",
          "BESI NA, Notional: 2.4699999999999998, Strike: 135, Expiry: 2024-03-15",
          "BESI NA, Notional: 0.88, Strike: 145, Expiry: 2024-03-15",
          "BESI NA, Notional: 0.94, Strike: 155, Expiry: 2024-03-15"
         ],
         "name": "BESI NA",
         "text": [
          "170",
          "120",
          "125",
          "130",
          "135",
          "145",
          "155"
         ],
         "type": "bar",
         "x": [
          "BESI NA",
          "BESI NA",
          "BESI NA",
          "BESI NA",
          "BESI NA",
          "BESI NA",
          "BESI NA"
         ],
         "xaxis": "x6",
         "y": [
          1.04,
          0.85,
          1.28,
          1.58,
          2.4699999999999998,
          0.88,
          0.94
         ],
         "yaxis": "y6"
        },
        {
         "hoverinfo": "text",
         "hovertext": [
          "DIM FP, Notional: 0.85, Strike: 264.7183, Expiry: 2024-03-15",
          "DIM FP, Notional: 0.71, Strike: 221.1601, Expiry: 2024-03-15"
         ],
         "name": "DIM FP",
         "text": [
          "264.7183",
          "221.1601"
         ],
         "type": "bar",
         "x": [
          "DIM FP",
          "DIM FP"
         ],
         "xaxis": "x6",
         "y": [
          0.85,
          0.71
         ],
         "yaxis": "y6"
        },
        {
         "hoverinfo": "text",
         "hovertext": [
          "MMYT US, Notional: 0.06, Strike: 55, Expiry: 2024-03-15"
         ],
         "name": "MMYT US",
         "text": [
          "55"
         ],
         "type": "bar",
         "x": [
          "MMYT US"
         ],
         "xaxis": "x6",
         "y": [
          0.06
         ],
         "yaxis": "y6"
        },
        {
         "hoverinfo": "text",
         "hovertext": [
          "MRNA US, Notional: 0.01, Strike: 84, Expiry: 2024-03-15",
          "MRNA US, Notional: 0.91, Strike: 85, Expiry: 2024-03-15"
         ],
         "name": "MRNA US",
         "text": [
          "84",
          "85"
         ],
         "type": "bar",
         "x": [
          "MRNA US",
          "MRNA US"
         ],
         "xaxis": "x6",
         "y": [
          0.01,
          0.91
         ],
         "yaxis": "y6"
        },
        {
         "hoverinfo": "text",
         "hovertext": [
          "NDX, Notional: 8.15, Strike: 16300, Expiry: 2024-03-15",
          "NDX, Notional: -24.45, Strike: 16300, Expiry: 2024-03-15"
         ],
         "name": "NDX",
         "text": [
          "16300",
          "16300"
         ],
         "type": "bar",
         "x": [
          "NDX",
          "NDX"
         ],
         "xaxis": "x6",
         "y": [
          8.15,
          -24.45
         ],
         "yaxis": "y6"
        },
        {
         "hoverinfo": "text",
         "hovertext": [
          "NTES US, Notional: -1.25, Strike: 120, Expiry: 2024-03-15"
         ],
         "name": "NTES US",
         "text": [
          "120"
         ],
         "type": "bar",
         "x": [
          "NTES US"
         ],
         "xaxis": "x6",
         "y": [
          -1.25
         ],
         "yaxis": "y6"
        },
        {
         "hoverinfo": "text",
         "hovertext": [
          "ONON US, Notional: 0.0, Strike: 22.5, Expiry: 2024-03-15",
          "ONON US, Notional: 1.68, Strike: 28, Expiry: 2024-03-15"
         ],
         "name": "ONON US",
         "text": [
          "22.5",
          "28"
         ],
         "type": "bar",
         "x": [
          "ONON US",
          "ONON US"
         ],
         "xaxis": "x6",
         "y": [
          0,
          1.68
         ],
         "yaxis": "y6"
        },
        {
         "hoverinfo": "text",
         "hovertext": [
          "ONON US , Notional: 0.87, Strike: 27, Expiry: 2024-03-15"
         ],
         "name": "ONON US ",
         "text": [
          "27"
         ],
         "type": "bar",
         "x": [
          "ONON US "
         ],
         "xaxis": "x6",
         "y": [
          0.87
         ],
         "yaxis": "y6"
        },
        {
         "hoverinfo": "text",
         "hovertext": [
          "RMS FP, Notional: 20.79, Strike: 2100, Expiry: 2024-03-15",
          "RMS FP, Notional: 18.81, Strike: 1900, Expiry: 2024-03-15"
         ],
         "name": "RMS FP",
         "text": [
          "2100",
          "1900"
         ],
         "type": "bar",
         "x": [
          "RMS FP",
          "RMS FP"
         ],
         "xaxis": "x6",
         "y": [
          20.79,
          18.81
         ],
         "yaxis": "y6"
        },
        {
         "hoverinfo": "text",
         "hovertext": [
          "STAA US, Notional: -0.02, Strike: 37.5, Expiry: 2024-03-15",
          "STAA US, Notional: -2.74, Strike: 47.5, Expiry: 2024-03-15"
         ],
         "name": "STAA US",
         "text": [
          "37.5",
          "47.5"
         ],
         "type": "bar",
         "x": [
          "STAA US",
          "STAA US"
         ],
         "xaxis": "x6",
         "y": [
          -0.02,
          -2.74
         ],
         "yaxis": "y6"
        },
        {
         "hoverinfo": "text",
         "hovertext": [
          "UMG NA, Notional: 0.53, Strike: 28, Expiry: 2024-03-15",
          "UMG NA, Notional: 0.19, Strike: 30, Expiry: 2024-03-15",
          "UMG NA, Notional: -3.54, Strike: 30, Expiry: 2024-03-15",
          "UMG NA, Notional: 1.8, Strike: 25, Expiry: 2024-03-15",
          "UMG NA, Notional: 3.74, Strike: 25.5, Expiry: 2024-03-15",
          "UMG NA, Notional: 0.46, Strike: 26, Expiry: 2024-03-15",
          "UMG NA, Notional: 0.0, Strike: 27.1, Expiry: 2024-03-15"
         ],
         "name": "UMG NA",
         "text": [
          "28",
          "30",
          "30",
          "25",
          "25.5",
          "26",
          "27.1"
         ],
         "type": "bar",
         "x": [
          "UMG NA",
          "UMG NA",
          "UMG NA",
          "UMG NA",
          "UMG NA",
          "UMG NA",
          "UMG NA"
         ],
         "xaxis": "x6",
         "y": [
          0.53,
          0.19,
          -3.54,
          1.8,
          3.74,
          0.46,
          0
         ],
         "yaxis": "y6"
        },
        {
         "hoverinfo": "text",
         "hovertext": [
          "BESI NA, Notional: 0.02, Strike: 140, Expiry: 2024-04-19",
          "BESI NA, Notional: 1.6400000000000001, Strike: 145, Expiry: 2024-04-19",
          "BESI NA, Notional: 0.78, Strike: 150, Expiry: 2024-04-19"
         ],
         "name": "BESI NA",
         "text": [
          "140",
          "145",
          "150"
         ],
         "type": "bar",
         "x": [
          "BESI NA",
          "BESI NA",
          "BESI NA"
         ],
         "xaxis": "x7",
         "y": [
          0.02,
          1.6400000000000001,
          0.78
         ],
         "yaxis": "y7"
        },
        {
         "hoverinfo": "text",
         "hovertext": [
          "MSCI US, Notional: 0.95, Strike: 530, Expiry: 2024-04-19"
         ],
         "name": "MSCI US",
         "text": [
          "530"
         ],
         "type": "bar",
         "x": [
          "MSCI US"
         ],
         "xaxis": "x7",
         "y": [
          0.95
         ],
         "yaxis": "y7"
        },
        {
         "hoverinfo": "text",
         "hovertext": [
          "NVO US, Notional: 1.09, Strike: 135, Expiry: 2024-04-19",
          "NVO US, Notional: 0.93, Strike: 115, Expiry: 2024-04-19"
         ],
         "name": "NVO US",
         "text": [
          "135",
          "115"
         ],
         "type": "bar",
         "x": [
          "NVO US",
          "NVO US"
         ],
         "xaxis": "x7",
         "y": [
          1.09,
          0.93
         ],
         "yaxis": "y7"
        },
        {
         "hoverinfo": "text",
         "hovertext": [
          "SNPS US, Notional: 1.93, Strike: 550, Expiry: 2024-04-19"
         ],
         "name": "SNPS US",
         "text": [
          "550"
         ],
         "type": "bar",
         "x": [
          "SNPS US"
         ],
         "xaxis": "x7",
         "y": [
          1.93
         ],
         "yaxis": "y7"
        },
        {
         "hoverinfo": "text",
         "hovertext": [
          "STAA US, Notional: -0.0, Strike: 40, Expiry: 2024-04-19"
         ],
         "name": "STAA US",
         "text": [
          "40"
         ],
         "type": "bar",
         "x": [
          "STAA US"
         ],
         "xaxis": "x7",
         "y": [
          0
         ],
         "yaxis": "y7"
        },
        {
         "hoverinfo": "text",
         "hovertext": [
          "SWAV US, Notional: -2.44, Strike: 280, Expiry: 2024-04-19"
         ],
         "name": "SWAV US",
         "text": [
          "280"
         ],
         "type": "bar",
         "x": [
          "SWAV US"
         ],
         "xaxis": "x7",
         "y": [
          -2.44
         ],
         "yaxis": "y7"
        },
        {
         "hoverinfo": "text",
         "hovertext": [
          "UMG NA, Notional: -2.13, Strike: 32, Expiry: 2024-04-19"
         ],
         "name": "UMG NA",
         "text": [
          "32"
         ],
         "type": "bar",
         "x": [
          "UMG NA"
         ],
         "xaxis": "x7",
         "y": [
          -2.13
         ],
         "yaxis": "y7"
        },
        {
         "hoverinfo": "text",
         "hovertext": [
          "WOLF US, Notional: 0.78, Strike: 20, Expiry: 2024-04-19"
         ],
         "name": "WOLF US",
         "text": [
          "20"
         ],
         "type": "bar",
         "x": [
          "WOLF US"
         ],
         "xaxis": "x7",
         "y": [
          0.78
         ],
         "yaxis": "y7"
        },
        {
         "hoverinfo": "text",
         "hovertext": [
          "NTES US, Notional: 0.95, Strike: 105, Expiry: 2024-03-01"
         ],
         "name": "NTES US",
         "text": [
          "105"
         ],
         "type": "bar",
         "x": [
          "NTES US"
         ],
         "xaxis": "x8",
         "y": [
          0.95
         ],
         "yaxis": "y8"
        },
        {
         "hoverinfo": "text",
         "hovertext": [
          "STAA US, Notional: -3.11, Strike: 37.5, Expiry: 2024-06-21",
          "STAA US, Notional: -1.28, Strike: 40, Expiry: 2024-06-21"
         ],
         "name": "STAA US",
         "text": [
          "37.5",
          "40"
         ],
         "type": "bar",
         "x": [
          "STAA US",
          "STAA US"
         ],
         "xaxis": "x9",
         "y": [
          -3.11,
          -1.28
         ],
         "yaxis": "y9"
        }
       ],
       "layout": {
        "annotations": [
         {
          "font": {
           "size": 16
          },
          "showarrow": false,
          "text": "2024-03-08",
          "x": 0.5,
          "xanchor": "center",
          "xref": "paper",
          "y": 1,
          "yanchor": "bottom",
          "yref": "paper"
         },
         {
          "font": {
           "size": 16
          },
          "showarrow": false,
          "text": "2024-04-17",
          "x": 0.5,
          "xanchor": "center",
          "xref": "paper",
          "y": 0.8866666666666667,
          "yanchor": "bottom",
          "yref": "paper"
         },
         {
          "font": {
           "size": 16
          },
          "showarrow": false,
          "text": "2024-05-06",
          "x": 0.5,
          "xanchor": "center",
          "xref": "paper",
          "y": 0.7733333333333332,
          "yanchor": "bottom",
          "yref": "paper"
         },
         {
          "font": {
           "size": 16
          },
          "showarrow": false,
          "text": "2024-04-26",
          "x": 0.5,
          "xanchor": "center",
          "xref": "paper",
          "y": 0.6599999999999999,
          "yanchor": "bottom",
          "yref": "paper"
         },
         {
          "font": {
           "size": 16
          },
          "showarrow": false,
          "text": "2024-03-20",
          "x": 0.5,
          "xanchor": "center",
          "xref": "paper",
          "y": 0.5466666666666666,
          "yanchor": "bottom",
          "yref": "paper"
         },
         {
          "font": {
           "size": 16
          },
          "showarrow": false,
          "text": "2024-03-15",
          "x": 0.5,
          "xanchor": "center",
          "xref": "paper",
          "y": 0.4333333333333333,
          "yanchor": "bottom",
          "yref": "paper"
         },
         {
          "font": {
           "size": 16
          },
          "showarrow": false,
          "text": "2024-04-19",
          "x": 0.5,
          "xanchor": "center",
          "xref": "paper",
          "y": 0.31999999999999995,
          "yanchor": "bottom",
          "yref": "paper"
         },
         {
          "font": {
           "size": 16
          },
          "showarrow": false,
          "text": "2024-03-01",
          "x": 0.5,
          "xanchor": "center",
          "xref": "paper",
          "y": 0.20666666666666667,
          "yanchor": "bottom",
          "yref": "paper"
         },
         {
          "font": {
           "size": 16
          },
          "showarrow": false,
          "text": "2024-06-21",
          "x": 0.5,
          "xanchor": "center",
          "xref": "paper",
          "y": 0.09333333333333332,
          "yanchor": "bottom",
          "yref": "paper"
         }
        ],
        "barmode": "group",
        "height": 2700,
        "template": {
         "data": {
          "bar": [
           {
            "error_x": {
             "color": "#2a3f5f"
            },
            "error_y": {
             "color": "#2a3f5f"
            },
            "marker": {
             "line": {
              "color": "#E5ECF6",
              "width": 0.5
             },
             "pattern": {
              "fillmode": "overlay",
              "size": 10,
              "solidity": 0.2
             }
            },
            "type": "bar"
           }
          ],
          "barpolar": [
           {
            "marker": {
             "line": {
              "color": "#E5ECF6",
              "width": 0.5
             },
             "pattern": {
              "fillmode": "overlay",
              "size": 10,
              "solidity": 0.2
             }
            },
            "type": "barpolar"
           }
          ],
          "carpet": [
           {
            "aaxis": {
             "endlinecolor": "#2a3f5f",
             "gridcolor": "white",
             "linecolor": "white",
             "minorgridcolor": "white",
             "startlinecolor": "#2a3f5f"
            },
            "baxis": {
             "endlinecolor": "#2a3f5f",
             "gridcolor": "white",
             "linecolor": "white",
             "minorgridcolor": "white",
             "startlinecolor": "#2a3f5f"
            },
            "type": "carpet"
           }
          ],
          "choropleth": [
           {
            "colorbar": {
             "outlinewidth": 0,
             "ticks": ""
            },
            "type": "choropleth"
           }
          ],
          "contour": [
           {
            "colorbar": {
             "outlinewidth": 0,
             "ticks": ""
            },
            "colorscale": [
             [
              0,
              "#0d0887"
             ],
             [
              0.1111111111111111,
              "#46039f"
             ],
             [
              0.2222222222222222,
              "#7201a8"
             ],
             [
              0.3333333333333333,
              "#9c179e"
             ],
             [
              0.4444444444444444,
              "#bd3786"
             ],
             [
              0.5555555555555556,
              "#d8576b"
             ],
             [
              0.6666666666666666,
              "#ed7953"
             ],
             [
              0.7777777777777778,
              "#fb9f3a"
             ],
             [
              0.8888888888888888,
              "#fdca26"
             ],
             [
              1,
              "#f0f921"
             ]
            ],
            "type": "contour"
           }
          ],
          "contourcarpet": [
           {
            "colorbar": {
             "outlinewidth": 0,
             "ticks": ""
            },
            "type": "contourcarpet"
           }
          ],
          "heatmap": [
           {
            "colorbar": {
             "outlinewidth": 0,
             "ticks": ""
            },
            "colorscale": [
             [
              0,
              "#0d0887"
             ],
             [
              0.1111111111111111,
              "#46039f"
             ],
             [
              0.2222222222222222,
              "#7201a8"
             ],
             [
              0.3333333333333333,
              "#9c179e"
             ],
             [
              0.4444444444444444,
              "#bd3786"
             ],
             [
              0.5555555555555556,
              "#d8576b"
             ],
             [
              0.6666666666666666,
              "#ed7953"
             ],
             [
              0.7777777777777778,
              "#fb9f3a"
             ],
             [
              0.8888888888888888,
              "#fdca26"
             ],
             [
              1,
              "#f0f921"
             ]
            ],
            "type": "heatmap"
           }
          ],
          "heatmapgl": [
           {
            "colorbar": {
             "outlinewidth": 0,
             "ticks": ""
            },
            "colorscale": [
             [
              0,
              "#0d0887"
             ],
             [
              0.1111111111111111,
              "#46039f"
             ],
             [
              0.2222222222222222,
              "#7201a8"
             ],
             [
              0.3333333333333333,
              "#9c179e"
             ],
             [
              0.4444444444444444,
              "#bd3786"
             ],
             [
              0.5555555555555556,
              "#d8576b"
             ],
             [
              0.6666666666666666,
              "#ed7953"
             ],
             [
              0.7777777777777778,
              "#fb9f3a"
             ],
             [
              0.8888888888888888,
              "#fdca26"
             ],
             [
              1,
              "#f0f921"
             ]
            ],
            "type": "heatmapgl"
           }
          ],
          "histogram": [
           {
            "marker": {
             "pattern": {
              "fillmode": "overlay",
              "size": 10,
              "solidity": 0.2
             }
            },
            "type": "histogram"
           }
          ],
          "histogram2d": [
           {
            "colorbar": {
             "outlinewidth": 0,
             "ticks": ""
            },
            "colorscale": [
             [
              0,
              "#0d0887"
             ],
             [
              0.1111111111111111,
              "#46039f"
             ],
             [
              0.2222222222222222,
              "#7201a8"
             ],
             [
              0.3333333333333333,
              "#9c179e"
             ],
             [
              0.4444444444444444,
              "#bd3786"
             ],
             [
              0.5555555555555556,
              "#d8576b"
             ],
             [
              0.6666666666666666,
              "#ed7953"
             ],
             [
              0.7777777777777778,
              "#fb9f3a"
             ],
             [
              0.8888888888888888,
              "#fdca26"
             ],
             [
              1,
              "#f0f921"
             ]
            ],
            "type": "histogram2d"
           }
          ],
          "histogram2dcontour": [
           {
            "colorbar": {
             "outlinewidth": 0,
             "ticks": ""
            },
            "colorscale": [
             [
              0,
              "#0d0887"
             ],
             [
              0.1111111111111111,
              "#46039f"
             ],
             [
              0.2222222222222222,
              "#7201a8"
             ],
             [
              0.3333333333333333,
              "#9c179e"
             ],
             [
              0.4444444444444444,
              "#bd3786"
             ],
             [
              0.5555555555555556,
              "#d8576b"
             ],
             [
              0.6666666666666666,
              "#ed7953"
             ],
             [
              0.7777777777777778,
              "#fb9f3a"
             ],
             [
              0.8888888888888888,
              "#fdca26"
             ],
             [
              1,
              "#f0f921"
             ]
            ],
            "type": "histogram2dcontour"
           }
          ],
          "mesh3d": [
           {
            "colorbar": {
             "outlinewidth": 0,
             "ticks": ""
            },
            "type": "mesh3d"
           }
          ],
          "parcoords": [
           {
            "line": {
             "colorbar": {
              "outlinewidth": 0,
              "ticks": ""
             }
            },
            "type": "parcoords"
           }
          ],
          "pie": [
           {
            "automargin": true,
            "type": "pie"
           }
          ],
          "scatter": [
           {
            "fillpattern": {
             "fillmode": "overlay",
             "size": 10,
             "solidity": 0.2
            },
            "type": "scatter"
           }
          ],
          "scatter3d": [
           {
            "line": {
             "colorbar": {
              "outlinewidth": 0,
              "ticks": ""
             }
            },
            "marker": {
             "colorbar": {
              "outlinewidth": 0,
              "ticks": ""
             }
            },
            "type": "scatter3d"
           }
          ],
          "scattercarpet": [
           {
            "marker": {
             "colorbar": {
              "outlinewidth": 0,
              "ticks": ""
             }
            },
            "type": "scattercarpet"
           }
          ],
          "scattergeo": [
           {
            "marker": {
             "colorbar": {
              "outlinewidth": 0,
              "ticks": ""
             }
            },
            "type": "scattergeo"
           }
          ],
          "scattergl": [
           {
            "marker": {
             "colorbar": {
              "outlinewidth": 0,
              "ticks": ""
             }
            },
            "type": "scattergl"
           }
          ],
          "scattermapbox": [
           {
            "marker": {
             "colorbar": {
              "outlinewidth": 0,
              "ticks": ""
             }
            },
            "type": "scattermapbox"
           }
          ],
          "scatterpolar": [
           {
            "marker": {
             "colorbar": {
              "outlinewidth": 0,
              "ticks": ""
             }
            },
            "type": "scatterpolar"
           }
          ],
          "scatterpolargl": [
           {
            "marker": {
             "colorbar": {
              "outlinewidth": 0,
              "ticks": ""
             }
            },
            "type": "scatterpolargl"
           }
          ],
          "scatterternary": [
           {
            "marker": {
             "colorbar": {
              "outlinewidth": 0,
              "ticks": ""
             }
            },
            "type": "scatterternary"
           }
          ],
          "surface": [
           {
            "colorbar": {
             "outlinewidth": 0,
             "ticks": ""
            },
            "colorscale": [
             [
              0,
              "#0d0887"
             ],
             [
              0.1111111111111111,
              "#46039f"
             ],
             [
              0.2222222222222222,
              "#7201a8"
             ],
             [
              0.3333333333333333,
              "#9c179e"
             ],
             [
              0.4444444444444444,
              "#bd3786"
             ],
             [
              0.5555555555555556,
              "#d8576b"
             ],
             [
              0.6666666666666666,
              "#ed7953"
             ],
             [
              0.7777777777777778,
              "#fb9f3a"
             ],
             [
              0.8888888888888888,
              "#fdca26"
             ],
             [
              1,
              "#f0f921"
             ]
            ],
            "type": "surface"
           }
          ],
          "table": [
           {
            "cells": {
             "fill": {
              "color": "#EBF0F8"
             },
             "line": {
              "color": "white"
             }
            },
            "header": {
             "fill": {
              "color": "#C8D4E3"
             },
             "line": {
              "color": "white"
             }
            },
            "type": "table"
           }
          ]
         },
         "layout": {
          "annotationdefaults": {
           "arrowcolor": "#2a3f5f",
           "arrowhead": 0,
           "arrowwidth": 1
          },
          "autotypenumbers": "strict",
          "coloraxis": {
           "colorbar": {
            "outlinewidth": 0,
            "ticks": ""
           }
          },
          "colorscale": {
           "diverging": [
            [
             0,
             "#8e0152"
            ],
            [
             0.1,
             "#c51b7d"
            ],
            [
             0.2,
             "#de77ae"
            ],
            [
             0.3,
             "#f1b6da"
            ],
            [
             0.4,
             "#fde0ef"
            ],
            [
             0.5,
             "#f7f7f7"
            ],
            [
             0.6,
             "#e6f5d0"
            ],
            [
             0.7,
             "#b8e186"
            ],
            [
             0.8,
             "#7fbc41"
            ],
            [
             0.9,
             "#4d9221"
            ],
            [
             1,
             "#276419"
            ]
           ],
           "sequential": [
            [
             0,
             "#0d0887"
            ],
            [
             0.1111111111111111,
             "#46039f"
            ],
            [
             0.2222222222222222,
             "#7201a8"
            ],
            [
             0.3333333333333333,
             "#9c179e"
            ],
            [
             0.4444444444444444,
             "#bd3786"
            ],
            [
             0.5555555555555556,
             "#d8576b"
            ],
            [
             0.6666666666666666,
             "#ed7953"
            ],
            [
             0.7777777777777778,
             "#fb9f3a"
            ],
            [
             0.8888888888888888,
             "#fdca26"
            ],
            [
             1,
             "#f0f921"
            ]
           ],
           "sequentialminus": [
            [
             0,
             "#0d0887"
            ],
            [
             0.1111111111111111,
             "#46039f"
            ],
            [
             0.2222222222222222,
             "#7201a8"
            ],
            [
             0.3333333333333333,
             "#9c179e"
            ],
            [
             0.4444444444444444,
             "#bd3786"
            ],
            [
             0.5555555555555556,
             "#d8576b"
            ],
            [
             0.6666666666666666,
             "#ed7953"
            ],
            [
             0.7777777777777778,
             "#fb9f3a"
            ],
            [
             0.8888888888888888,
             "#fdca26"
            ],
            [
             1,
             "#f0f921"
            ]
           ]
          },
          "colorway": [
           "#636efa",
           "#EF553B",
           "#00cc96",
           "#ab63fa",
           "#FFA15A",
           "#19d3f3",
           "#FF6692",
           "#B6E880",
           "#FF97FF",
           "#FECB52"
          ],
          "font": {
           "color": "#2a3f5f"
          },
          "geo": {
           "bgcolor": "white",
           "lakecolor": "white",
           "landcolor": "#E5ECF6",
           "showlakes": true,
           "showland": true,
           "subunitcolor": "white"
          },
          "hoverlabel": {
           "align": "left"
          },
          "hovermode": "closest",
          "mapbox": {
           "style": "light"
          },
          "paper_bgcolor": "white",
          "plot_bgcolor": "#E5ECF6",
          "polar": {
           "angularaxis": {
            "gridcolor": "white",
            "linecolor": "white",
            "ticks": ""
           },
           "bgcolor": "#E5ECF6",
           "radialaxis": {
            "gridcolor": "white",
            "linecolor": "white",
            "ticks": ""
           }
          },
          "scene": {
           "xaxis": {
            "backgroundcolor": "#E5ECF6",
            "gridcolor": "white",
            "gridwidth": 2,
            "linecolor": "white",
            "showbackground": true,
            "ticks": "",
            "zerolinecolor": "white"
           },
           "yaxis": {
            "backgroundcolor": "#E5ECF6",
            "gridcolor": "white",
            "gridwidth": 2,
            "linecolor": "white",
            "showbackground": true,
            "ticks": "",
            "zerolinecolor": "white"
           },
           "zaxis": {
            "backgroundcolor": "#E5ECF6",
            "gridcolor": "white",
            "gridwidth": 2,
            "linecolor": "white",
            "showbackground": true,
            "ticks": "",
            "zerolinecolor": "white"
           }
          },
          "shapedefaults": {
           "line": {
            "color": "#2a3f5f"
           }
          },
          "ternary": {
           "aaxis": {
            "gridcolor": "white",
            "linecolor": "white",
            "ticks": ""
           },
           "baxis": {
            "gridcolor": "white",
            "linecolor": "white",
            "ticks": ""
           },
           "bgcolor": "#E5ECF6",
           "caxis": {
            "gridcolor": "white",
            "linecolor": "white",
            "ticks": ""
           }
          },
          "title": {
           "x": 0.05
          },
          "xaxis": {
           "automargin": true,
           "gridcolor": "white",
           "linecolor": "white",
           "ticks": "",
           "title": {
            "standoff": 15
           },
           "zerolinecolor": "white",
           "zerolinewidth": 2
          },
          "yaxis": {
           "automargin": true,
           "gridcolor": "white",
           "linecolor": "white",
           "ticks": "",
           "title": {
            "standoff": 15
           },
           "zerolinecolor": "white",
           "zerolinewidth": 2
          }
         }
        },
        "title": {
         "text": "Notional ($) Size of Active Trades by Ticker and Expiry Date"
        },
        "xaxis": {
         "anchor": "y",
         "domain": [
          0,
          1
         ],
         "matches": "x9",
         "showticklabels": false,
         "tickmode": "array",
         "ticktext": [
          "NTES US",
          "300285 CH",
          "NKA",
          "ADYEN NA",
          "ARM US",
          "BESI NA",
          "DIM FP",
          "MMYT US",
          "MRNA US",
          "NDX",
          "ONON US",
          "ONON US ",
          "RMS FP",
          "STAA US",
          "UMG NA",
          "688506 CH",
          "MSCI US",
          "NVO US",
          "SNPS US",
          "SWAV US",
          "WOLF US",
          "688166 CH",
          "603259 CH"
         ],
         "tickvals": [
          "NTES US",
          "300285 CH",
          "NKA",
          "ADYEN NA",
          "ARM US",
          "BESI NA",
          "DIM FP",
          "MMYT US",
          "MRNA US",
          "NDX",
          "ONON US",
          "ONON US ",
          "RMS FP",
          "STAA US",
          "UMG NA",
          "688506 CH",
          "MSCI US",
          "NVO US",
          "SNPS US",
          "SWAV US",
          "WOLF US",
          "688166 CH",
          "603259 CH"
         ],
         "title": {
          "text": "Ticker"
         }
        },
        "xaxis2": {
         "anchor": "y2",
         "domain": [
          0,
          1
         ],
         "matches": "x9",
         "showticklabels": false,
         "tickmode": "array",
         "ticktext": [
          "NTES US",
          "300285 CH",
          "NKA",
          "ADYEN NA",
          "ARM US",
          "BESI NA",
          "DIM FP",
          "MMYT US",
          "MRNA US",
          "NDX",
          "ONON US",
          "ONON US ",
          "RMS FP",
          "STAA US",
          "UMG NA",
          "688506 CH",
          "MSCI US",
          "NVO US",
          "SNPS US",
          "SWAV US",
          "WOLF US",
          "688166 CH",
          "603259 CH"
         ],
         "tickvals": [
          "NTES US",
          "300285 CH",
          "NKA",
          "ADYEN NA",
          "ARM US",
          "BESI NA",
          "DIM FP",
          "MMYT US",
          "MRNA US",
          "NDX",
          "ONON US",
          "ONON US ",
          "RMS FP",
          "STAA US",
          "UMG NA",
          "688506 CH",
          "MSCI US",
          "NVO US",
          "SNPS US",
          "SWAV US",
          "WOLF US",
          "688166 CH",
          "603259 CH"
         ],
         "title": {
          "text": "Ticker"
         }
        },
        "xaxis3": {
         "anchor": "y3",
         "domain": [
          0,
          1
         ],
         "matches": "x9",
         "showticklabels": false,
         "tickmode": "array",
         "ticktext": [
          "NTES US",
          "300285 CH",
          "NKA",
          "ADYEN NA",
          "ARM US",
          "BESI NA",
          "DIM FP",
          "MMYT US",
          "MRNA US",
          "NDX",
          "ONON US",
          "ONON US ",
          "RMS FP",
          "STAA US",
          "UMG NA",
          "688506 CH",
          "MSCI US",
          "NVO US",
          "SNPS US",
          "SWAV US",
          "WOLF US",
          "688166 CH",
          "603259 CH"
         ],
         "tickvals": [
          "NTES US",
          "300285 CH",
          "NKA",
          "ADYEN NA",
          "ARM US",
          "BESI NA",
          "DIM FP",
          "MMYT US",
          "MRNA US",
          "NDX",
          "ONON US",
          "ONON US ",
          "RMS FP",
          "STAA US",
          "UMG NA",
          "688506 CH",
          "MSCI US",
          "NVO US",
          "SNPS US",
          "SWAV US",
          "WOLF US",
          "688166 CH",
          "603259 CH"
         ],
         "title": {
          "text": "Ticker"
         }
        },
        "xaxis4": {
         "anchor": "y4",
         "domain": [
          0,
          1
         ],
         "matches": "x9",
         "showticklabels": false,
         "tickmode": "array",
         "ticktext": [
          "NTES US",
          "300285 CH",
          "NKA",
          "ADYEN NA",
          "ARM US",
          "BESI NA",
          "DIM FP",
          "MMYT US",
          "MRNA US",
          "NDX",
          "ONON US",
          "ONON US ",
          "RMS FP",
          "STAA US",
          "UMG NA",
          "688506 CH",
          "MSCI US",
          "NVO US",
          "SNPS US",
          "SWAV US",
          "WOLF US",
          "688166 CH",
          "603259 CH"
         ],
         "tickvals": [
          "NTES US",
          "300285 CH",
          "NKA",
          "ADYEN NA",
          "ARM US",
          "BESI NA",
          "DIM FP",
          "MMYT US",
          "MRNA US",
          "NDX",
          "ONON US",
          "ONON US ",
          "RMS FP",
          "STAA US",
          "UMG NA",
          "688506 CH",
          "MSCI US",
          "NVO US",
          "SNPS US",
          "SWAV US",
          "WOLF US",
          "688166 CH",
          "603259 CH"
         ],
         "title": {
          "text": "Ticker"
         }
        },
        "xaxis5": {
         "anchor": "y5",
         "domain": [
          0,
          1
         ],
         "matches": "x9",
         "showticklabels": false,
         "tickmode": "array",
         "ticktext": [
          "NTES US",
          "300285 CH",
          "NKA",
          "ADYEN NA",
          "ARM US",
          "BESI NA",
          "DIM FP",
          "MMYT US",
          "MRNA US",
          "NDX",
          "ONON US",
          "ONON US ",
          "RMS FP",
          "STAA US",
          "UMG NA",
          "688506 CH",
          "MSCI US",
          "NVO US",
          "SNPS US",
          "SWAV US",
          "WOLF US",
          "688166 CH",
          "603259 CH"
         ],
         "tickvals": [
          "NTES US",
          "300285 CH",
          "NKA",
          "ADYEN NA",
          "ARM US",
          "BESI NA",
          "DIM FP",
          "MMYT US",
          "MRNA US",
          "NDX",
          "ONON US",
          "ONON US ",
          "RMS FP",
          "STAA US",
          "UMG NA",
          "688506 CH",
          "MSCI US",
          "NVO US",
          "SNPS US",
          "SWAV US",
          "WOLF US",
          "688166 CH",
          "603259 CH"
         ],
         "title": {
          "text": "Ticker"
         }
        },
        "xaxis6": {
         "anchor": "y6",
         "domain": [
          0,
          1
         ],
         "matches": "x9",
         "showticklabels": false,
         "tickmode": "array",
         "ticktext": [
          "NTES US",
          "300285 CH",
          "NKA",
          "ADYEN NA",
          "ARM US",
          "BESI NA",
          "DIM FP",
          "MMYT US",
          "MRNA US",
          "NDX",
          "ONON US",
          "ONON US ",
          "RMS FP",
          "STAA US",
          "UMG NA",
          "688506 CH",
          "MSCI US",
          "NVO US",
          "SNPS US",
          "SWAV US",
          "WOLF US",
          "688166 CH",
          "603259 CH"
         ],
         "tickvals": [
          "NTES US",
          "300285 CH",
          "NKA",
          "ADYEN NA",
          "ARM US",
          "BESI NA",
          "DIM FP",
          "MMYT US",
          "MRNA US",
          "NDX",
          "ONON US",
          "ONON US ",
          "RMS FP",
          "STAA US",
          "UMG NA",
          "688506 CH",
          "MSCI US",
          "NVO US",
          "SNPS US",
          "SWAV US",
          "WOLF US",
          "688166 CH",
          "603259 CH"
         ],
         "title": {
          "text": "Ticker"
         }
        },
        "xaxis7": {
         "anchor": "y7",
         "domain": [
          0,
          1
         ],
         "matches": "x9",
         "showticklabels": false,
         "tickmode": "array",
         "ticktext": [
          "NTES US",
          "300285 CH",
          "NKA",
          "ADYEN NA",
          "ARM US",
          "BESI NA",
          "DIM FP",
          "MMYT US",
          "MRNA US",
          "NDX",
          "ONON US",
          "ONON US ",
          "RMS FP",
          "STAA US",
          "UMG NA",
          "688506 CH",
          "MSCI US",
          "NVO US",
          "SNPS US",
          "SWAV US",
          "WOLF US",
          "688166 CH",
          "603259 CH"
         ],
         "tickvals": [
          "NTES US",
          "300285 CH",
          "NKA",
          "ADYEN NA",
          "ARM US",
          "BESI NA",
          "DIM FP",
          "MMYT US",
          "MRNA US",
          "NDX",
          "ONON US",
          "ONON US ",
          "RMS FP",
          "STAA US",
          "UMG NA",
          "688506 CH",
          "MSCI US",
          "NVO US",
          "SNPS US",
          "SWAV US",
          "WOLF US",
          "688166 CH",
          "603259 CH"
         ],
         "title": {
          "text": "Ticker"
         }
        },
        "xaxis8": {
         "anchor": "y8",
         "domain": [
          0,
          1
         ],
         "matches": "x9",
         "showticklabels": false,
         "tickmode": "array",
         "ticktext": [
          "NTES US",
          "300285 CH",
          "NKA",
          "ADYEN NA",
          "ARM US",
          "BESI NA",
          "DIM FP",
          "MMYT US",
          "MRNA US",
          "NDX",
          "ONON US",
          "ONON US ",
          "RMS FP",
          "STAA US",
          "UMG NA",
          "688506 CH",
          "MSCI US",
          "NVO US",
          "SNPS US",
          "SWAV US",
          "WOLF US",
          "688166 CH",
          "603259 CH"
         ],
         "tickvals": [
          "NTES US",
          "300285 CH",
          "NKA",
          "ADYEN NA",
          "ARM US",
          "BESI NA",
          "DIM FP",
          "MMYT US",
          "MRNA US",
          "NDX",
          "ONON US",
          "ONON US ",
          "RMS FP",
          "STAA US",
          "UMG NA",
          "688506 CH",
          "MSCI US",
          "NVO US",
          "SNPS US",
          "SWAV US",
          "WOLF US",
          "688166 CH",
          "603259 CH"
         ],
         "title": {
          "text": "Ticker"
         }
        },
        "xaxis9": {
         "anchor": "y9",
         "domain": [
          0,
          1
         ],
         "tickmode": "array",
         "ticktext": [
          "NTES US",
          "300285 CH",
          "NKA",
          "ADYEN NA",
          "ARM US",
          "BESI NA",
          "DIM FP",
          "MMYT US",
          "MRNA US",
          "NDX",
          "ONON US",
          "ONON US ",
          "RMS FP",
          "STAA US",
          "UMG NA",
          "688506 CH",
          "MSCI US",
          "NVO US",
          "SNPS US",
          "SWAV US",
          "WOLF US",
          "688166 CH",
          "603259 CH"
         ],
         "tickvals": [
          "NTES US",
          "300285 CH",
          "NKA",
          "ADYEN NA",
          "ARM US",
          "BESI NA",
          "DIM FP",
          "MMYT US",
          "MRNA US",
          "NDX",
          "ONON US",
          "ONON US ",
          "RMS FP",
          "STAA US",
          "UMG NA",
          "688506 CH",
          "MSCI US",
          "NVO US",
          "SNPS US",
          "SWAV US",
          "WOLF US",
          "688166 CH",
          "603259 CH"
         ],
         "title": {
          "text": "Ticker"
         }
        },
        "yaxis": {
         "anchor": "x",
         "domain": [
          0.9066666666666666,
          1
         ],
         "title": {
          "text": "Notional ($)"
         }
        },
        "yaxis2": {
         "anchor": "x2",
         "domain": [
          0.7933333333333333,
          0.8866666666666667
         ],
         "title": {
          "text": "Notional ($)"
         }
        },
        "yaxis3": {
         "anchor": "x3",
         "domain": [
          0.6799999999999999,
          0.7733333333333332
         ],
         "title": {
          "text": "Notional ($)"
         }
        },
        "yaxis4": {
         "anchor": "x4",
         "domain": [
          0.5666666666666667,
          0.6599999999999999
         ],
         "title": {
          "text": "Notional ($)"
         }
        },
        "yaxis5": {
         "anchor": "x5",
         "domain": [
          0.4533333333333333,
          0.5466666666666666
         ],
         "title": {
          "text": "Notional ($)"
         }
        },
        "yaxis6": {
         "anchor": "x6",
         "domain": [
          0.33999999999999997,
          0.4333333333333333
         ],
         "title": {
          "text": "Notional ($)"
         }
        },
        "yaxis7": {
         "anchor": "x7",
         "domain": [
          0.22666666666666666,
          0.31999999999999995
         ],
         "title": {
          "text": "Notional ($)"
         }
        },
        "yaxis8": {
         "anchor": "x8",
         "domain": [
          0.11333333333333333,
          0.20666666666666667
         ],
         "title": {
          "text": "Notional ($)"
         }
        },
        "yaxis9": {
         "anchor": "x9",
         "domain": [
          0,
          0.09333333333333332
         ],
         "title": {
          "text": "Notional ($)"
         }
        }
       }
      }
     },
     "metadata": {},
     "output_type": "display_data"
    }
   ],
   "source": [
    "import pandas as pd\n",
    "import plotly.express as px\n",
    "\n",
    "from plotly.subplots import make_subplots\n",
    "import plotly.graph_objects as go\n",
    "\n",
    "\n",
    "# Read the CSV file\n",
    "df = pd.read_csv('options_positions.csv')\n",
    "\n",
    "# Data cleaning and type conversion\n",
    "df['Quantity'] = df['Quantity'].apply(lambda x: float(str(x).replace(',', '')))\n",
    "df['Notl ($)'] = df['Notl ($)'].apply(lambda x: float(str(x).replace('$', '').replace(',', '')))\n",
    "df['Expiry Date'] = pd.to_datetime(df['Expiry Date'], format='%d-%b-%y')\n",
    "\n",
    "# Filter to include only 'Active' status\n",
    "df_active = df[df['Status'] == 'Active']\n",
    "\n",
    "# Create a new column for trade type\n",
    "df_active['Trade Type'] = df_active['Direction'] + ' ' + df_active['Call/Put']\n",
    "\n",
    "# Sort by 'Expiry Date'\n",
    "df_active_sorted = df_active.sort_values(by='Expiry Date', ascending=False)\n",
    "\n",
    "# Assuming 'Strike' is a column in 'df_active' DataFrame\n",
    "grouped = df_active_sorted.groupby(['Ticker', 'Trade Type', 'Expiry Date', 'Strike'])['Notl ($)'].sum().reset_index()\n",
    "\n",
    "from plotly.subplots import make_subplots\n",
    "import plotly.graph_objects as go\n",
    "\n",
    "# Ensure the data is sorted by 'Expiry Date' and then by 'Ticker'\n",
    "grouped_sorted = grouped.sort_values(by=['Expiry Date', 'Ticker'])\n",
    "\n",
    "# Modify 'Notl ($)' for 'Sell Call' and 'Buy Put'\n",
    "grouped['Notl ($)'] = grouped.apply(lambda row: -row['Notl ($)'] if row['Trade Type'] in ['Sell Call', 'Buy Put'] else row['Notl ($)'], axis=1)\n",
    "\n",
    "# Create a subplot for each unique 'Expiry Date'\n",
    "unique_dates = grouped['Expiry Date'].dt.date.unique()\n",
    "fig = make_subplots(rows=len(unique_dates), cols=1, shared_xaxes=True,\n",
    "                    subplot_titles=[date.strftime('%Y-%m-%d') for date in unique_dates],\n",
    "                    vertical_spacing=0.02)\n",
    "\n",
    "# Iterate over each expiry date to create each subplot\n",
    "for i, date in enumerate(unique_dates, start=1):\n",
    "    # Filter the data for the specific date\n",
    "    date_data = grouped[grouped['Expiry Date'].dt.date == date]\n",
    "    \n",
    "    # Append trace for each ticker within the filtered data\n",
    "    for ticker in date_data['Ticker'].unique():\n",
    "        ticker_data = date_data[date_data['Ticker'] == ticker]\n",
    "        fig.append_trace(go.Bar(\n",
    "            x=ticker_data['Ticker'],\n",
    "            y=ticker_data['Notl ($)'],\n",
    "            text=ticker_data['Strike'].astype(str),\n",
    "            hoverinfo='text',\n",
    "            hovertext=ticker_data.apply(lambda row: f\"{row['Ticker']}, Notional: {row['Notl ($)']}, Strike: {row['Strike']}, Expiry: {row['Expiry Date'].date()}\", axis=1),\n",
    "            name=ticker  # Ticker name as legend entry\n",
    "        ), row=i, col=1)\n",
    "\n",
    "# Update layout for readability\n",
    "fig.update_layout(\n",
    "    title='Notional ($) Size of Active Trades by Ticker and Expiry Date',\n",
    "    barmode='group',\n",
    "    height=300 * len(unique_dates),  # Adjust height based on number of expiration dates\n",
    ")\n",
    "\n",
    "# Update x-axis and y-axis for each plot\n",
    "for i in range(1, len(unique_dates) + 1):\n",
    "    fig['layout'][f'xaxis{i}']['title'] = 'Ticker'\n",
    "    fig['layout'][f'xaxis{i}']['tickmode'] = 'array'\n",
    "    fig['layout'][f'xaxis{i}']['tickvals'] = grouped_sorted['Ticker'].unique()\n",
    "    fig['layout'][f'xaxis{i}']['ticktext'] = grouped_sorted['Ticker'].unique()\n",
    "    fig['layout'][f'yaxis{i}']['title'] = 'Notional ($)'\n",
    "\n",
    "# Show the figure\n",
    "fig.show()"
   ]
  },
  {
   "cell_type": "code",
   "execution_count": null,
   "metadata": {},
   "outputs": [],
   "source": []
  }
 ],
 "metadata": {
  "kernelspec": {
   "display_name": "env_01",
   "language": "python",
   "name": "python3"
  },
  "language_info": {
   "codemirror_mode": {
    "name": "ipython",
    "version": 3
   },
   "file_extension": ".py",
   "mimetype": "text/x-python",
   "name": "python",
   "nbconvert_exporter": "python",
   "pygments_lexer": "ipython3",
   "version": "3.10.11"
  }
 },
 "nbformat": 4,
 "nbformat_minor": 2
}
